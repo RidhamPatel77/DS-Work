{
  "nbformat": 4,
  "nbformat_minor": 0,
  "metadata": {
    "colab": {
      "name": "7-PR-1.ipynb",
      "provenance": []
    },
    "kernelspec": {
      "name": "python3",
      "display_name": "Python 3"
    }
  },
  "cells": [
    {
      "cell_type": "code",
      "metadata": {
        "id": "33hQWPq7nL2o",
        "outputId": "ec7d9ed5-e871-4ffe-e0f8-f439de2eba12",
        "colab": {
          "base_uri": "https://localhost:8080/",
          "height": 34
        }
      },
      "source": [
        "from google.colab import drive\n",
        "drive.mount('/content/drive')"
      ],
      "execution_count": null,
      "outputs": [
        {
          "output_type": "stream",
          "text": [
            "Mounted at /content/drive\n"
          ],
          "name": "stdout"
        }
      ]
    },
    {
      "cell_type": "code",
      "metadata": {
        "id": "snQfr3L2ngnN",
        "outputId": "89b96e96-25a3-446b-dfb9-5e39103dd861",
        "colab": {
          "base_uri": "https://localhost:8080/",
          "height": 151
        }
      },
      "source": [
        "import pandas as pd\n",
        "import numpy as np\n",
        "import matplotlib.pyplot as plt\n",
        "\n",
        "df = pd.read_csv('/content/drive/My Drive/train.csv')\n",
        "print(df.head())\n"
      ],
      "execution_count": null,
      "outputs": [
        {
          "output_type": "stream",
          "text": [
            "   PassengerId  Survived  Pclass  ...     Fare Cabin  Embarked\n",
            "0            1         0       3  ...   7.2500   NaN         S\n",
            "1            2         1       1  ...  71.2833   C85         C\n",
            "2            3         1       3  ...   7.9250   NaN         S\n",
            "3            4         1       1  ...  53.1000  C123         S\n",
            "4            5         0       3  ...   8.0500   NaN         S\n",
            "\n",
            "[5 rows x 12 columns]\n"
          ],
          "name": "stdout"
        }
      ]
    },
    {
      "cell_type": "code",
      "metadata": {
        "id": "3mAgUZ7Yn6Fo",
        "outputId": "e0d09884-f7eb-48bf-ed6c-884391aa2dad",
        "colab": {
          "base_uri": "https://localhost:8080/",
          "height": 218
        }
      },
      "source": [
        "print(df.describe())\n",
        "print(df.shape)"
      ],
      "execution_count": null,
      "outputs": [
        {
          "output_type": "stream",
          "text": [
            "       PassengerId    Survived      Pclass  ...       SibSp       Parch        Fare\n",
            "count   891.000000  891.000000  891.000000  ...  891.000000  891.000000  891.000000\n",
            "mean    446.000000    0.383838    2.308642  ...    0.523008    0.381594   32.204208\n",
            "std     257.353842    0.486592    0.836071  ...    1.102743    0.806057   49.693429\n",
            "min       1.000000    0.000000    1.000000  ...    0.000000    0.000000    0.000000\n",
            "25%     223.500000    0.000000    2.000000  ...    0.000000    0.000000    7.910400\n",
            "50%     446.000000    0.000000    3.000000  ...    0.000000    0.000000   14.454200\n",
            "75%     668.500000    1.000000    3.000000  ...    1.000000    0.000000   31.000000\n",
            "max     891.000000    1.000000    3.000000  ...    8.000000    6.000000  512.329200\n",
            "\n",
            "[8 rows x 7 columns]\n",
            "(891, 12)\n"
          ],
          "name": "stdout"
        }
      ]
    },
    {
      "cell_type": "code",
      "metadata": {
        "id": "gyrNufq5pS0l",
        "outputId": "abbebd2b-0bcb-4abd-8d23-eb510becb88f",
        "colab": {
          "base_uri": "https://localhost:8080/",
          "height": 67
        }
      },
      "source": [
        "df.columns"
      ],
      "execution_count": null,
      "outputs": [
        {
          "output_type": "execute_result",
          "data": {
            "text/plain": [
              "Index(['PassengerId', 'Survived', 'Pclass', 'Name', 'Sex', 'Age', 'SibSp',\n",
              "       'Parch', 'Ticket', 'Fare', 'Cabin', 'Embarked'],\n",
              "      dtype='object')"
            ]
          },
          "metadata": {
            "tags": []
          },
          "execution_count": 5
        }
      ]
    },
    {
      "cell_type": "code",
      "metadata": {
        "id": "4tflsxLRpYG4",
        "outputId": "bcb178d1-2845-4eae-d653-6133ada1de90",
        "colab": {
          "base_uri": "https://localhost:8080/",
          "height": 235
        }
      },
      "source": [
        "df.isnull().sum()"
      ],
      "execution_count": null,
      "outputs": [
        {
          "output_type": "execute_result",
          "data": {
            "text/plain": [
              "PassengerId      0\n",
              "Survived         0\n",
              "Pclass           0\n",
              "Name             0\n",
              "Sex              0\n",
              "Age            177\n",
              "SibSp            0\n",
              "Parch            0\n",
              "Ticket           0\n",
              "Fare             0\n",
              "Cabin          687\n",
              "Embarked         2\n",
              "dtype: int64"
            ]
          },
          "metadata": {
            "tags": []
          },
          "execution_count": 6
        }
      ]
    },
    {
      "cell_type": "code",
      "metadata": {
        "id": "wTUOzhBiqZCH",
        "outputId": "2543664e-5e84-4e6a-be91-7cbe62aa13ba",
        "colab": {
          "base_uri": "https://localhost:8080/",
          "height": 302
        }
      },
      "source": [
        "df.drop(['Ticket','PassengerId'], 1, inplace=True)\n",
        "df.info()"
      ],
      "execution_count": null,
      "outputs": [
        {
          "output_type": "stream",
          "text": [
            "<class 'pandas.core.frame.DataFrame'>\n",
            "RangeIndex: 891 entries, 0 to 890\n",
            "Data columns (total 10 columns):\n",
            " #   Column    Non-Null Count  Dtype  \n",
            "---  ------    --------------  -----  \n",
            " 0   Survived  891 non-null    int64  \n",
            " 1   Pclass    891 non-null    int64  \n",
            " 2   Name      891 non-null    object \n",
            " 3   Sex       891 non-null    object \n",
            " 4   Age       714 non-null    float64\n",
            " 5   SibSp     891 non-null    int64  \n",
            " 6   Parch     891 non-null    int64  \n",
            " 7   Fare      891 non-null    float64\n",
            " 8   Cabin     204 non-null    object \n",
            " 9   Embarked  889 non-null    object \n",
            "dtypes: float64(2), int64(4), object(4)\n",
            "memory usage: 69.7+ KB\n"
          ],
          "name": "stdout"
        }
      ]
    },
    {
      "cell_type": "code",
      "metadata": {
        "id": "YoGy3ZRoqkZD"
      },
      "source": [
        "def assignDeckValue(CabinCode):\n",
        "    if pd.isnull(CabinCode):\n",
        "        category = 'Unknown'\n",
        "    else:\n",
        "        category = CabinCode[0]\n",
        "    return category\n",
        "  \n",
        "Deck = np.array([assignDeckValue(cabin) for cabin in df['Cabin'].values])\n",
        "df = df.assign(Deck = Deck)"
      ],
      "execution_count": null,
      "outputs": []
    },
    {
      "cell_type": "code",
      "metadata": {
        "id": "phRVTwXyrSqW"
      },
      "source": [
        "df['FamilySize'] = df['SibSp'] + df['Parch'] + 1"
      ],
      "execution_count": null,
      "outputs": []
    },
    {
      "cell_type": "code",
      "metadata": {
        "id": "GImu3LUCrqfI"
      },
      "source": [
        "df['Title'] = df.Name.str.extract(' ([A-Za-z]+)\\.', expand=False)\n",
        "\n",
        "# Changing to common category\n",
        "df['Title'] = df['Title'].replace(['Dr', 'Rev', 'Col', 'Major', 'Countess', 'Sir', 'Jonkheer', 'Lady', 'Capt', 'Don'], 'Others')\n",
        "df['Title'] = df['Title'].replace('Ms', 'Miss')\n",
        "df['Title'] = df['Title'].replace('Mme', 'Mrs')\n",
        "df['Title'] = df['Title'].replace('Mlle', 'Miss')"
      ],
      "execution_count": null,
      "outputs": []
    },
    {
      "cell_type": "code",
      "metadata": {
        "id": "6bhgaOogrsoS"
      },
      "source": [
        "\n",
        "df.drop(['Cabin','Name'],1,inplace=True)"
      ],
      "execution_count": null,
      "outputs": []
    },
    {
      "cell_type": "code",
      "metadata": {
        "id": "cArlPnIRryPc",
        "outputId": "3914111d-a3db-4bc0-faec-a17130ea731a",
        "colab": {
          "base_uri": "https://localhost:8080/",
          "height": 151
        }
      },
      "source": [
        "print(df.head())"
      ],
      "execution_count": null,
      "outputs": [
        {
          "output_type": "stream",
          "text": [
            "   Survived  Pclass     Sex   Age  ...  Embarked     Deck  FamilySize Title\n",
            "0         0       3    male  22.0  ...         S  Unknown           2    Mr\n",
            "1         1       1  female  38.0  ...         C        C           2   Mrs\n",
            "2         1       3  female  26.0  ...         S  Unknown           1  Miss\n",
            "3         1       1  female  35.0  ...         S        C           2   Mrs\n",
            "4         0       3    male  35.0  ...         S  Unknown           1    Mr\n",
            "\n",
            "[5 rows x 11 columns]\n"
          ],
          "name": "stdout"
        }
      ]
    },
    {
      "cell_type": "code",
      "metadata": {
        "id": "cEBvQ6ras4nT",
        "outputId": "8153e81f-f063-45ba-c479-876499c9e952",
        "colab": {
          "base_uri": "https://localhost:8080/",
          "height": 34
        }
      },
      "source": [
        "df['Embarked'].value_counts()\n",
        "\n",
        "# Fills null values with 'S'-most common occurence\n",
        "common = 'S'\n",
        "df['Embarked']=df['Embarked'].fillna('S')\n",
        "\n",
        "# Checking the no of null values now\n",
        "df['Embarked'].isnull().sum()\n",
        " "
      ],
      "execution_count": null,
      "outputs": [
        {
          "output_type": "execute_result",
          "data": {
            "text/plain": [
              "0"
            ]
          },
          "metadata": {
            "tags": []
          },
          "execution_count": 16
        }
      ]
    },
    {
      "cell_type": "code",
      "metadata": {
        "id": "ayCOqORmtxxT"
      },
      "source": [
        "means = df.groupby('Title')['Age'].mean()\n",
        "\n",
        "title_list = ['Master','Miss','Mr','Mrs','Others']\n",
        "def age_missing_replace(means, dframe, title_list):\n",
        "    for title in title_list:\n",
        "        temp = dframe['Title'] == title \n",
        "        dframe.loc[temp, 'Age'] = dframe.loc[temp, 'Age'].fillna(means[title]) \n",
        "        \n",
        "age_missing_replace(means, df, title_list)"
      ],
      "execution_count": null,
      "outputs": []
    },
    {
      "cell_type": "code",
      "metadata": {
        "id": "AY0Mz9_otzyr"
      },
      "source": [
        "# Returns count for each category\n",
        "\n",
        "from sklearn import preprocessing\n",
        "le = preprocessing.LabelEncoder()\n",
        "df['Deck'] = le.fit_transform(df['Deck'])"
      ],
      "execution_count": null,
      "outputs": []
    },
    {
      "cell_type": "code",
      "metadata": {
        "id": "PWqSHUn3ufVM",
        "outputId": "bc0f482b-c237-463e-bbf9-629897b189ee",
        "colab": {
          "base_uri": "https://localhost:8080/",
          "height": 554
        }
      },
      "source": [
        "print(df)\n",
        "df.info()"
      ],
      "execution_count": null,
      "outputs": [
        {
          "output_type": "stream",
          "text": [
            "     Survived  Pclass     Sex        Age  ...  Embarked  Deck  FamilySize   Title\n",
            "0           0       3    male  22.000000  ...         S     8           2      Mr\n",
            "1           1       1  female  38.000000  ...         C     2           2     Mrs\n",
            "2           1       3  female  26.000000  ...         S     8           1    Miss\n",
            "3           1       1  female  35.000000  ...         S     2           2     Mrs\n",
            "4           0       3    male  35.000000  ...         S     8           1      Mr\n",
            "..        ...     ...     ...        ...  ...       ...   ...         ...     ...\n",
            "886         0       2    male  27.000000  ...         S     8           1  Others\n",
            "887         1       1  female  19.000000  ...         S     1           1    Miss\n",
            "888         0       3  female  21.845638  ...         S     8           4    Miss\n",
            "889         1       1    male  26.000000  ...         C     2           1      Mr\n",
            "890         0       3    male  32.000000  ...         Q     8           1      Mr\n",
            "\n",
            "[891 rows x 11 columns]\n",
            "<class 'pandas.core.frame.DataFrame'>\n",
            "RangeIndex: 891 entries, 0 to 890\n",
            "Data columns (total 11 columns):\n",
            " #   Column      Non-Null Count  Dtype  \n",
            "---  ------      --------------  -----  \n",
            " 0   Survived    891 non-null    int64  \n",
            " 1   Pclass      891 non-null    int64  \n",
            " 2   Sex         891 non-null    object \n",
            " 3   Age         891 non-null    float64\n",
            " 4   SibSp       891 non-null    int64  \n",
            " 5   Parch       891 non-null    int64  \n",
            " 6   Fare        891 non-null    float64\n",
            " 7   Embarked    891 non-null    object \n",
            " 8   Deck        891 non-null    int64  \n",
            " 9   FamilySize  891 non-null    int64  \n",
            " 10  Title       891 non-null    object \n",
            "dtypes: float64(2), int64(6), object(3)\n",
            "memory usage: 76.7+ KB\n"
          ],
          "name": "stdout"
        }
      ]
    }
  ]
}