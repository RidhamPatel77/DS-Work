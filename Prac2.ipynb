{
  "nbformat": 4,
  "nbformat_minor": 0,
  "metadata": {
    "colab": {
      "name": "DS_Practical_2.ipynb",
      "provenance": [],
      "collapsed_sections": []
    },
    "kernelspec": {
      "name": "python3",
      "display_name": "Python 3"
    }
  },
  "cells": [
    {
      "cell_type": "code",
      "metadata": {
        "id": "zEhdH2X94DWU"
      },
      "source": [
        "import numpy as np\n",
        "import seaborn as sns\n",
        "import pandas as pd\n",
        "import matplotlib.pyplot as plt\n",
        "import datetime"
      ],
      "execution_count": null,
      "outputs": []
    },
    {
      "cell_type": "code",
      "metadata": {
        "id": "1zYFOUyAM6lg",
        "outputId": "5c41b225-9ffd-45bf-d7ad-d833ceb1d1a6",
        "colab": {
          "base_uri": "https://localhost:8080/",
          "height": 204
        }
      },
      "source": [
        "from numpy import unique\n",
        "from pandas import read_csv\n",
        "\n",
        "url = 'https://raw.githubusercontent.com/jbrownlee/Datasets/master/ecoli.csv'\n",
        "df = read_csv(url, header=None,names=['mcg','gvh','lip','chg','aac','alm1','alm2','class'])\n",
        "df.head()"
      ],
      "execution_count": null,
      "outputs": [
        {
          "output_type": "execute_result",
          "data": {
            "text/html": [
              "<div>\n",
              "<style scoped>\n",
              "    .dataframe tbody tr th:only-of-type {\n",
              "        vertical-align: middle;\n",
              "    }\n",
              "\n",
              "    .dataframe tbody tr th {\n",
              "        vertical-align: top;\n",
              "    }\n",
              "\n",
              "    .dataframe thead th {\n",
              "        text-align: right;\n",
              "    }\n",
              "</style>\n",
              "<table border=\"1\" class=\"dataframe\">\n",
              "  <thead>\n",
              "    <tr style=\"text-align: right;\">\n",
              "      <th></th>\n",
              "      <th>mcg</th>\n",
              "      <th>gvh</th>\n",
              "      <th>lip</th>\n",
              "      <th>chg</th>\n",
              "      <th>aac</th>\n",
              "      <th>alm1</th>\n",
              "      <th>alm2</th>\n",
              "      <th>class</th>\n",
              "    </tr>\n",
              "  </thead>\n",
              "  <tbody>\n",
              "    <tr>\n",
              "      <th>0</th>\n",
              "      <td>0.49</td>\n",
              "      <td>0.29</td>\n",
              "      <td>0.48</td>\n",
              "      <td>0.5</td>\n",
              "      <td>0.56</td>\n",
              "      <td>0.24</td>\n",
              "      <td>0.35</td>\n",
              "      <td>cp</td>\n",
              "    </tr>\n",
              "    <tr>\n",
              "      <th>1</th>\n",
              "      <td>0.07</td>\n",
              "      <td>0.40</td>\n",
              "      <td>0.48</td>\n",
              "      <td>0.5</td>\n",
              "      <td>0.54</td>\n",
              "      <td>0.35</td>\n",
              "      <td>0.44</td>\n",
              "      <td>cp</td>\n",
              "    </tr>\n",
              "    <tr>\n",
              "      <th>2</th>\n",
              "      <td>0.56</td>\n",
              "      <td>0.40</td>\n",
              "      <td>0.48</td>\n",
              "      <td>0.5</td>\n",
              "      <td>0.49</td>\n",
              "      <td>0.37</td>\n",
              "      <td>0.46</td>\n",
              "      <td>cp</td>\n",
              "    </tr>\n",
              "    <tr>\n",
              "      <th>3</th>\n",
              "      <td>0.59</td>\n",
              "      <td>0.49</td>\n",
              "      <td>0.48</td>\n",
              "      <td>0.5</td>\n",
              "      <td>0.52</td>\n",
              "      <td>0.45</td>\n",
              "      <td>0.36</td>\n",
              "      <td>cp</td>\n",
              "    </tr>\n",
              "    <tr>\n",
              "      <th>4</th>\n",
              "      <td>0.23</td>\n",
              "      <td>0.32</td>\n",
              "      <td>0.48</td>\n",
              "      <td>0.5</td>\n",
              "      <td>0.55</td>\n",
              "      <td>0.25</td>\n",
              "      <td>0.35</td>\n",
              "      <td>cp</td>\n",
              "    </tr>\n",
              "  </tbody>\n",
              "</table>\n",
              "</div>"
            ],
            "text/plain": [
              "    mcg   gvh   lip  chg   aac  alm1  alm2 class\n",
              "0  0.49  0.29  0.48  0.5  0.56  0.24  0.35    cp\n",
              "1  0.07  0.40  0.48  0.5  0.54  0.35  0.44    cp\n",
              "2  0.56  0.40  0.48  0.5  0.49  0.37  0.46    cp\n",
              "3  0.59  0.49  0.48  0.5  0.52  0.45  0.36    cp\n",
              "4  0.23  0.32  0.48  0.5  0.55  0.25  0.35    cp"
            ]
          },
          "metadata": {
            "tags": []
          },
          "execution_count": 2
        }
      ]
    },
    {
      "cell_type": "code",
      "metadata": {
        "id": "nx75ZIiiGgxP",
        "outputId": "cd251696-8d18-4df9-a557-c0475aa00f78",
        "colab": {
          "base_uri": "https://localhost:8080/",
          "height": 34
        }
      },
      "source": [
        "df['class'].unique()"
      ],
      "execution_count": null,
      "outputs": [
        {
          "output_type": "execute_result",
          "data": {
            "text/plain": [
              "array(['cp', 'im', 'imS', 'imL', 'imU', 'om', 'omL', 'pp'], dtype=object)"
            ]
          },
          "metadata": {
            "tags": []
          },
          "execution_count": 3
        }
      ]
    },
    {
      "cell_type": "code",
      "metadata": {
        "id": "ByXSurgNRSv8"
      },
      "source": [
        "x = df.drop('class',axis=1)\n",
        "y = df['class']"
      ],
      "execution_count": null,
      "outputs": []
    },
    {
      "cell_type": "code",
      "metadata": {
        "id": "XUplxquIRcwi",
        "outputId": "8936b8da-ebd6-49d8-b748-b148e9aa784d",
        "colab": {
          "base_uri": "https://localhost:8080/",
          "height": 280
        }
      },
      "source": [
        "from sklearn.model_selection import train_test_split\n",
        "from sklearn.ensemble import ExtraTreesClassifier\n",
        "\n",
        "model = ExtraTreesClassifier()\n",
        "model.fit(x, y)\n",
        "feat_importances = pd.Series(model.feature_importances_, index=x.columns)\n",
        "\n",
        "feat_importances.nlargest(7).plot(kind='bar')\n",
        "plt.show()"
      ],
      "execution_count": null,
      "outputs": [
        {
          "output_type": "display_data",
          "data": {
            "image/png": "[encoded data removed]",
            "text/plain": [
              "<Figure size 432x288 with 1 Axes>"
            ]
          },
          "metadata": {
            "tags": [],
            "needs_background": "light"
          }
        }
      ]
    },
    {
      "cell_type": "code",
      "metadata": {
        "id": "li-658mMRhsZ",
        "outputId": "b6dee2f8-2dca-48e5-c8a3-21deb596bcfc",
        "colab": {
          "base_uri": "https://localhost:8080/",
          "height": 280
        }
      },
      "source": [
        "feat_importances.nlargest(5).plot(kind='bar')\n",
        "plt.show()"
      ],
      "execution_count": null,
      "outputs": [
        {
          "output_type": "display_data",
          "data": {
            "image/png": "[encoded data removed]",
            "text/plain": [
              "<Figure size 432x288 with 1 Axes>"
            ]
          },
          "metadata": {
            "tags": [],
            "needs_background": "light"
          }
        }
      ]
    },
    {
      "cell_type": "code",
      "metadata": {
        "id": "kpF60-JRRsrO",
        "outputId": "167067ac-ed2c-4eb7-80ad-0649110028a6",
        "colab": {
          "base_uri": "https://localhost:8080/",
          "height": 153
        }
      },
      "source": [
        "feat_importances"
      ],
      "execution_count": null,
      "outputs": [
        {
          "output_type": "execute_result",
          "data": {
            "text/plain": [
              "mcg     0.208304\n",
              "gvh     0.174158\n",
              "lip     0.026499\n",
              "chg     0.003548\n",
              "aac     0.133197\n",
              "alm1    0.249826\n",
              "alm2    0.204468\n",
              "dtype: float64"
            ]
          },
          "metadata": {
            "tags": []
          },
          "execution_count": 7
        }
      ]
    },
    {
      "cell_type": "code",
      "metadata": {
        "id": "QpUOAHr2Rw3M",
        "outputId": "ba0035ef-5f54-4849-9b5c-e162b1ab19fc",
        "colab": {
          "base_uri": "https://localhost:8080/",
          "height": 286
        }
      },
      "source": [
        "sns.heatmap(df.corr())"
      ],
      "execution_count": null,
      "outputs": [
        {
          "output_type": "execute_result",
          "data": {
            "text/plain": [
              "<matplotlib.axes._subplots.AxesSubplot at 0x7fe4a3e2a400>"
            ]
          },
          "metadata": {
            "tags": []
          },
          "execution_count": 8
        },
        {
          "output_type": "display_data",
          "data": {
            "image/png": "[encoded data removed]",
            "text/plain": [
              "<Figure size 432x288 with 2 Axes>"
            ]
          },
          "metadata": {
            "tags": [],
            "needs_background": "light"
          }
        }
      ]
    },
    {
      "cell_type": "code",
      "metadata": {
        "id": "s3YdAAbBR0hy"
      },
      "source": [
        "corr_mat=df.corr()"
      ],
      "execution_count": null,
      "outputs": []
    },
    {
      "cell_type": "code",
      "metadata": {
        "id": "CGDe92h5R4cw",
        "outputId": "e976568b-9698-477e-fdaf-a1fee85b9985",
        "colab": {
          "base_uri": "https://localhost:8080/",
          "height": 266
        }
      },
      "source": [
        "corr_mat\n"
      ],
      "execution_count": null,
      "outputs": [
        {
          "output_type": "execute_result",
          "data": {
            "text/html": [
              "<div>\n",
              "<style scoped>\n",
              "    .dataframe tbody tr th:only-of-type {\n",
              "        vertical-align: middle;\n",
              "    }\n",
              "\n",
              "    .dataframe tbody tr th {\n",
              "        vertical-align: top;\n",
              "    }\n",
              "\n",
              "    .dataframe thead th {\n",
              "        text-align: right;\n",
              "    }\n",
              "</style>\n",
              "<table border=\"1\" class=\"dataframe\">\n",
              "  <thead>\n",
              "    <tr style=\"text-align: right;\">\n",
              "      <th></th>\n",
              "      <th>mcg</th>\n",
              "      <th>gvh</th>\n",
              "      <th>lip</th>\n",
              "      <th>chg</th>\n",
              "      <th>aac</th>\n",
              "      <th>alm1</th>\n",
              "      <th>alm2</th>\n",
              "    </tr>\n",
              "  </thead>\n",
              "  <tbody>\n",
              "    <tr>\n",
              "      <th>mcg</th>\n",
              "      <td>1.000000</td>\n",
              "      <td>0.454805</td>\n",
              "      <td>0.146841</td>\n",
              "      <td>0.070266</td>\n",
              "      <td>0.220699</td>\n",
              "      <td>0.396979</td>\n",
              "      <td>0.167086</td>\n",
              "    </tr>\n",
              "    <tr>\n",
              "      <th>gvh</th>\n",
              "      <td>0.454805</td>\n",
              "      <td>1.000000</td>\n",
              "      <td>0.043804</td>\n",
              "      <td>0.018466</td>\n",
              "      <td>0.069824</td>\n",
              "      <td>0.173492</td>\n",
              "      <td>-0.120199</td>\n",
              "    </tr>\n",
              "    <tr>\n",
              "      <th>lip</th>\n",
              "      <td>0.146841</td>\n",
              "      <td>0.043804</td>\n",
              "      <td>1.000000</td>\n",
              "      <td>0.311951</td>\n",
              "      <td>0.070190</td>\n",
              "      <td>0.095788</td>\n",
              "      <td>-0.057570</td>\n",
              "    </tr>\n",
              "    <tr>\n",
              "      <th>chg</th>\n",
              "      <td>0.070266</td>\n",
              "      <td>0.018466</td>\n",
              "      <td>0.311951</td>\n",
              "      <td>1.000000</td>\n",
              "      <td>-0.044726</td>\n",
              "      <td>-0.007654</td>\n",
              "      <td>-0.052188</td>\n",
              "    </tr>\n",
              "    <tr>\n",
              "      <th>aac</th>\n",
              "      <td>0.220699</td>\n",
              "      <td>0.069824</td>\n",
              "      <td>0.070190</td>\n",
              "      <td>-0.044726</td>\n",
              "      <td>1.000000</td>\n",
              "      <td>0.279482</td>\n",
              "      <td>0.252675</td>\n",
              "    </tr>\n",
              "    <tr>\n",
              "      <th>alm1</th>\n",
              "      <td>0.396979</td>\n",
              "      <td>0.173492</td>\n",
              "      <td>0.095788</td>\n",
              "      <td>-0.007654</td>\n",
              "      <td>0.279482</td>\n",
              "      <td>1.000000</td>\n",
              "      <td>0.809324</td>\n",
              "    </tr>\n",
              "    <tr>\n",
              "      <th>alm2</th>\n",
              "      <td>0.167086</td>\n",
              "      <td>-0.120199</td>\n",
              "      <td>-0.057570</td>\n",
              "      <td>-0.052188</td>\n",
              "      <td>0.252675</td>\n",
              "      <td>0.809324</td>\n",
              "      <td>1.000000</td>\n",
              "    </tr>\n",
              "  </tbody>\n",
              "</table>\n",
              "</div>"
            ],
            "text/plain": [
              "           mcg       gvh       lip       chg       aac      alm1      alm2\n",
              "mcg   1.000000  0.454805  0.146841  0.070266  0.220699  0.396979  0.167086\n",
              "gvh   0.454805  1.000000  0.043804  0.018466  0.069824  0.173492 -0.120199\n",
              "lip   0.146841  0.043804  1.000000  0.311951  0.070190  0.095788 -0.057570\n",
              "chg   0.070266  0.018466  0.311951  1.000000 -0.044726 -0.007654 -0.052188\n",
              "aac   0.220699  0.069824  0.070190 -0.044726  1.000000  0.279482  0.252675\n",
              "alm1  0.396979  0.173492  0.095788 -0.007654  0.279482  1.000000  0.809324\n",
              "alm2  0.167086 -0.120199 -0.057570 -0.052188  0.252675  0.809324  1.000000"
            ]
          },
          "metadata": {
            "tags": []
          },
          "execution_count": 11
        }
      ]
    },
    {
      "cell_type": "code",
      "metadata": {
        "id": "v_GAyTk_R6Ov",
        "outputId": "567a81a3-3312-4d55-b024-f3e8ca40f415",
        "colab": {
          "base_uri": "https://localhost:8080/",
          "height": 558
        }
      },
      "source": [
        "plt.subplots(figsize=(12,9))\n",
        "sns.heatmap(corr_mat)"
      ],
      "execution_count": null,
      "outputs": [
        {
          "output_type": "execute_result",
          "data": {
            "text/plain": [
              "<matplotlib.axes._subplots.AxesSubplot at 0x7fe4a3e2a0b8>"
            ]
          },
          "metadata": {
            "tags": []
          },
          "execution_count": 12
        },
        {
          "output_type": "display_data",
          "data": {
            "image/png": "[encoded data removed]",
            "text/plain": [
              "<Figure size 864x648 with 2 Axes>"
            ]
          },
          "metadata": {
            "tags": [],
            "needs_background": "light"
          }
        }
      ]
    },
    {
      "cell_type": "code",
      "metadata": {
        "id": "Pm3tq0iRR9eN",
        "outputId": "5bce60bf-57fd-464f-b234-f1dbcfffde99",
        "colab": {
          "base_uri": "https://localhost:8080/",
          "height": 34
        }
      },
      "source": [
        "from sklearn.feature_selection import RFE\n",
        "from sklearn.ensemble import RandomForestClassifier\n",
        "estimator = RandomForestClassifier()\n",
        "select = RFE(estimator, 3, step=1)\n",
        "select = select.fit(x, y)\n",
        "rfe_mask = select.get_support() \n",
        "new_features = [] \n",
        "for bool, feature in zip(rfe_mask, x.columns):\n",
        " if bool:\n",
        "  new_features.append(feature)\n",
        "new_features"
      ],
      "execution_count": null,
      "outputs": [
        {
          "output_type": "execute_result",
          "data": {
            "text/plain": [
              "['mcg', 'alm1', 'alm2']"
            ]
          },
          "metadata": {
            "tags": []
          },
          "execution_count": 13
        }
      ]
    },
    {
      "cell_type": "code",
      "metadata": {
        "id": "xTQX9S04SEu5",
        "outputId": "7423c6b9-bdb7-4879-8506-5997716ba3da",
        "colab": {
          "base_uri": "https://localhost:8080/",
          "height": 34
        }
      },
      "source": [
        "from sklearn.neighbors import KNeighborsClassifier\n",
        "from sklearn.model_selection import train_test_split\n",
        "from sklearn.metrics import accuracy_score\n",
        "x_train,x_test,y_train,y_test=train_test_split(x,y,test_size=0.2,random_state=5)\n",
        "knn=KNeighborsClassifier(n_neighbors=5)\n",
        "knn.fit(x_train,y_train)\n",
        "ans=accuracy_score(y_test,knn.predict(x_test))\n",
        "ans"
      ],
      "execution_count": null,
      "outputs": [
        {
          "output_type": "execute_result",
          "data": {
            "text/plain": [
              "0.8823529411764706"
            ]
          },
          "metadata": {
            "tags": []
          },
          "execution_count": 14
        }
      ]
    },
    {
      "cell_type": "code",
      "metadata": {
        "id": "f8zNEPiYSLeZ",
        "outputId": "ca96eac7-63e8-4009-e456-430b5d6dec85",
        "colab": {
          "base_uri": "https://localhost:8080/",
          "height": 34
        }
      },
      "source": [
        "xn=x[['mcg',\n",
        " 'alm1',\n",
        " 'alm2',\n",
        " 'gvh',\n",
        " 'aac']]\n",
        "x_train,x_test,y_train,y_test=train_test_split(xn,y,test_size=0.2,random_state=5)\n",
        "knn=KNeighborsClassifier(n_neighbors=5)\n",
        "knn.fit(x_train,y_train)\n",
        "ans=accuracy_score(y_test,knn.predict(x_test))\n",
        "ans"
      ],
      "execution_count": null,
      "outputs": [
        {
          "output_type": "execute_result",
          "data": {
            "text/plain": [
              "0.8676470588235294"
            ]
          },
          "metadata": {
            "tags": []
          },
          "execution_count": 15
        }
      ]
    },
    {
      "cell_type": "code",
      "metadata": {
        "id": "U7VFzdcITocI"
      },
      "source": [
        "from sklearn.decomposition import PCA\n",
        "pca = PCA()\n",
        "X_train = pca.fit_transform(x_train)\n",
        "X_test = pca.transform(x_test)"
      ],
      "execution_count": null,
      "outputs": []
    },
    {
      "cell_type": "code",
      "metadata": {
        "id": "OhYC-Z9yUzuC",
        "outputId": "689be1cf-ee31-4990-f59a-7f58e7fd6a62",
        "colab": {
          "base_uri": "https://localhost:8080/",
          "height": 34
        }
      },
      "source": [
        "exp_var = pca.explained_variance_ratio_\n",
        "exp_var"
      ],
      "execution_count": null,
      "outputs": [
        {
          "output_type": "execute_result",
          "data": {
            "text/plain": [
              "array([0.54092107, 0.26692743, 0.08672348, 0.07397889, 0.03144912])"
            ]
          },
          "metadata": {
            "tags": []
          },
          "execution_count": 17
        }
      ]
    },
    {
      "cell_type": "code",
      "metadata": {
        "id": "UNCuU5wbU1To"
      },
      "source": [
        ""
      ],
      "execution_count": null,
      "outputs": []
    }
  ]
}